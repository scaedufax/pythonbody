{
 "cells": [
  {
   "cell_type": "code",
   "execution_count": 4,
   "id": "0c7e614c",
   "metadata": {},
   "outputs": [
    {
     "ename": "Exception",
     "evalue": "Couldn't load libpythonbody.so!",
     "output_type": "error",
     "traceback": [
      "\u001b[0;31m---------------------------------------------------------------------------\u001b[0m",
      "\u001b[0;31mException\u001b[0m                                 Traceback (most recent call last)",
      "Cell \u001b[0;32mIn [4], line 1\u001b[0m\n\u001b[0;32m----> 1\u001b[0m \u001b[38;5;28;01mfrom\u001b[39;00m \u001b[38;5;21;01mpythonbody\u001b[39;00m \u001b[38;5;28;01mimport\u001b[39;00m snap\n\u001b[1;32m      2\u001b[0m \u001b[38;5;28;01mimport\u001b[39;00m \u001b[38;5;21;01mmatplotlib\u001b[39;00m\u001b[38;5;21;01m.\u001b[39;00m\u001b[38;5;21;01mpyplot\u001b[39;00m \u001b[38;5;28;01mas\u001b[39;00m \u001b[38;5;21;01mplt\u001b[39;00m\n\u001b[1;32m      3\u001b[0m \u001b[38;5;28;01mfrom\u001b[39;00m \u001b[38;5;21;01mmatplotlib\u001b[39;00m\u001b[38;5;21;01m.\u001b[39;00m\u001b[38;5;21;01mgridspec\u001b[39;00m \u001b[38;5;28;01mimport\u001b[39;00m GridSpec\n",
      "File \u001b[0;32m/media/stuff_win/nbody/pythonbody/examples/../../pythonbody/__init__.py:1\u001b[0m\n\u001b[0;32m----> 1\u001b[0m \u001b[38;5;28;01mfrom\u001b[39;00m \u001b[38;5;21;01mpythonbody\u001b[39;00m\u001b[38;5;21;01m.\u001b[39;00m\u001b[38;5;21;01mnbody\u001b[39;00m \u001b[38;5;28;01mimport\u001b[39;00m nbody\n\u001b[1;32m      2\u001b[0m \u001b[38;5;28;01mfrom\u001b[39;00m \u001b[38;5;21;01mpythonbody\u001b[39;00m\u001b[38;5;21;01m.\u001b[39;00m\u001b[38;5;21;01mdat10\u001b[39;00m \u001b[38;5;28;01mimport\u001b[39;00m dat10\n\u001b[1;32m      3\u001b[0m \u001b[38;5;28;01mfrom\u001b[39;00m \u001b[38;5;21;01mpythonbody\u001b[39;00m\u001b[38;5;21;01m.\u001b[39;00m\u001b[38;5;21;01msnap\u001b[39;00m \u001b[38;5;28;01mimport\u001b[39;00m snap\n",
      "File \u001b[0;32m/media/stuff_win/nbody/pythonbody/examples/../../pythonbody/nbody.py:8\u001b[0m\n\u001b[1;32m      5\u001b[0m \u001b[38;5;28;01mimport\u001b[39;00m \u001b[38;5;21;01mpandas\u001b[39;00m \u001b[38;5;28;01mas\u001b[39;00m \u001b[38;5;21;01mpd\u001b[39;00m\n\u001b[1;32m      6\u001b[0m \u001b[38;5;28;01mimport\u001b[39;00m \u001b[38;5;21;01msys\u001b[39;00m\n\u001b[0;32m----> 8\u001b[0m \u001b[38;5;28;01mfrom\u001b[39;00m \u001b[38;5;21;01mpythonbody\u001b[39;00m\u001b[38;5;21;01m.\u001b[39;00m\u001b[38;5;21;01msnap\u001b[39;00m \u001b[38;5;28;01mimport\u001b[39;00m snap\n\u001b[1;32m      9\u001b[0m \u001b[38;5;28;01mfrom\u001b[39;00m \u001b[38;5;21;01mpythonbody\u001b[39;00m\u001b[38;5;21;01m.\u001b[39;00m\u001b[38;5;21;01mcluster\u001b[39;00m \u001b[38;5;28;01mimport\u001b[39;00m cluster\n\u001b[1;32m     10\u001b[0m \u001b[38;5;28;01mfrom\u001b[39;00m \u001b[38;5;21;01mpythonbody\u001b[39;00m \u001b[38;5;28;01mimport\u001b[39;00m data_files\n",
      "File \u001b[0;32m/media/stuff_win/nbody/pythonbody/examples/../../pythonbody/snap/__init__.py:1\u001b[0m\n\u001b[0;32m----> 1\u001b[0m \u001b[38;5;28;01mfrom\u001b[39;00m \u001b[38;5;21;01mpythonbody\u001b[39;00m\u001b[38;5;21;01m.\u001b[39;00m\u001b[38;5;21;01msnap\u001b[39;00m\u001b[38;5;21;01m.\u001b[39;00m\u001b[38;5;21;01msnap\u001b[39;00m \u001b[38;5;28;01mimport\u001b[39;00m snap\n\u001b[1;32m      2\u001b[0m \u001b[38;5;28;01mfrom\u001b[39;00m \u001b[38;5;21;01mpythonbody\u001b[39;00m\u001b[38;5;21;01m.\u001b[39;00m\u001b[38;5;21;01msnap\u001b[39;00m\u001b[38;5;21;01m.\u001b[39;00m\u001b[38;5;21;01mbinaries\u001b[39;00m \u001b[38;5;28;01mimport\u001b[39;00m Binaries\n\u001b[1;32m      3\u001b[0m \u001b[38;5;28;01mfrom\u001b[39;00m \u001b[38;5;21;01mpythonbody\u001b[39;00m\u001b[38;5;21;01m.\u001b[39;00m\u001b[38;5;21;01msnap\u001b[39;00m\u001b[38;5;21;01m.\u001b[39;00m\u001b[38;5;21;01msingles\u001b[39;00m \u001b[38;5;28;01mimport\u001b[39;00m Singles\n",
      "File \u001b[0;32m/media/stuff_win/nbody/pythonbody/examples/../../pythonbody/snap/snap.py:11\u001b[0m\n\u001b[1;32m      8\u001b[0m \u001b[38;5;28;01mimport\u001b[39;00m \u001b[38;5;21;01mpathlib\u001b[39;00m\n\u001b[1;32m      9\u001b[0m \u001b[38;5;28;01mimport\u001b[39;00m \u001b[38;5;21;01mwarnings\u001b[39;00m\n\u001b[0;32m---> 11\u001b[0m \u001b[38;5;28;01mfrom\u001b[39;00m \u001b[38;5;21;01mpythonbody\u001b[39;00m\u001b[38;5;21;01m.\u001b[39;00m\u001b[38;5;21;01mffi\u001b[39;00m \u001b[38;5;28;01mimport\u001b[39;00m ffi\n\u001b[1;32m     12\u001b[0m \u001b[38;5;28;01mfrom\u001b[39;00m \u001b[38;5;21;01mpythonbody\u001b[39;00m\u001b[38;5;21;01m.\u001b[39;00m\u001b[38;5;21;01mnbdf\u001b[39;00m \u001b[38;5;28;01mimport\u001b[39;00m nbdf\n\u001b[1;32m     13\u001b[0m \u001b[38;5;28;01mfrom\u001b[39;00m \u001b[38;5;21;01mpythonbody\u001b[39;00m\u001b[38;5;21;01m.\u001b[39;00m\u001b[38;5;21;01msnap\u001b[39;00m\u001b[38;5;21;01m.\u001b[39;00m\u001b[38;5;21;01mbinaries\u001b[39;00m \u001b[38;5;28;01mimport\u001b[39;00m Binaries\n",
      "File \u001b[0;32m/media/stuff_win/nbody/pythonbody/examples/../../pythonbody/ffi/__init__.py:1\u001b[0m\n\u001b[0;32m----> 1\u001b[0m \u001b[38;5;28;01mfrom\u001b[39;00m \u001b[38;5;21;01mpythonbody\u001b[39;00m\u001b[38;5;21;01m.\u001b[39;00m\u001b[38;5;21;01mffi\u001b[39;00m\u001b[38;5;21;01m.\u001b[39;00m\u001b[38;5;21;01mffi\u001b[39;00m \u001b[38;5;28;01mimport\u001b[39;00m ffi\n",
      "File \u001b[0;32m/media/stuff_win/nbody/pythonbody/examples/../../pythonbody/ffi/ffi.py:134\u001b[0m\n\u001b[1;32m    124\u001b[0m         func((c_float \u001b[38;5;241m*\u001b[39m N)(\u001b[38;5;241m*\u001b[39mdata[\u001b[38;5;124m\"\u001b[39m\u001b[38;5;124mM\u001b[39m\u001b[38;5;124m\"\u001b[39m]\u001b[38;5;241m.\u001b[39mvalues),\n\u001b[1;32m    125\u001b[0m                     (c_float \u001b[38;5;241m*\u001b[39m N)(\u001b[38;5;241m*\u001b[39mdata[\u001b[38;5;124m\"\u001b[39m\u001b[38;5;124mX1\u001b[39m\u001b[38;5;124m\"\u001b[39m]\u001b[38;5;241m.\u001b[39mvalues),\n\u001b[1;32m    126\u001b[0m                     (c_float \u001b[38;5;241m*\u001b[39m N)(\u001b[38;5;241m*\u001b[39mdata[\u001b[38;5;124m\"\u001b[39m\u001b[38;5;124mX2\u001b[39m\u001b[38;5;124m\"\u001b[39m]\u001b[38;5;241m.\u001b[39mvalues),\n\u001b[0;32m   (...)\u001b[0m\n\u001b[1;32m    130\u001b[0m                     num_threads\n\u001b[1;32m    131\u001b[0m                     )\n\u001b[1;32m    132\u001b[0m         \u001b[38;5;28;01mreturn\u001b[39;00m np\u001b[38;5;241m.\u001b[39marray(EPOT)\n\u001b[0;32m--> 134\u001b[0m ffi \u001b[38;5;241m=\u001b[39m \u001b[43mFFI\u001b[49m\u001b[43m(\u001b[49m\u001b[43m)\u001b[49m\n",
      "File \u001b[0;32m/media/stuff_win/nbody/pythonbody/examples/../../pythonbody/ffi/ffi.py:18\u001b[0m, in \u001b[0;36mFFI.__init__\u001b[0;34m(self, p_id, d_id)\u001b[0m\n\u001b[1;32m     16\u001b[0m     \u001b[38;5;28mself\u001b[39m\u001b[38;5;241m.\u001b[39mlib \u001b[38;5;241m=\u001b[39m cdll\u001b[38;5;241m.\u001b[39mLoadLibrary(\u001b[38;5;124m\"\u001b[39m\u001b[38;5;124m.libs/libpythonbody.so\u001b[39m\u001b[38;5;124m\"\u001b[39m)\n\u001b[1;32m     17\u001b[0m \u001b[38;5;28;01melse\u001b[39;00m:\n\u001b[0;32m---> 18\u001b[0m     \u001b[38;5;28;01mraise\u001b[39;00m \u001b[38;5;167;01mException\u001b[39;00m(\u001b[38;5;124m\"\u001b[39m\u001b[38;5;124mCouldn\u001b[39m\u001b[38;5;124m'\u001b[39m\u001b[38;5;124mt load libpythonbody.so!\u001b[39m\u001b[38;5;124m\"\u001b[39m)\n\u001b[1;32m     19\u001b[0m \u001b[38;5;28;01mtry\u001b[39;00m:\n\u001b[1;32m     20\u001b[0m     \u001b[38;5;28mself\u001b[39m\u001b[38;5;241m.\u001b[39m_ocl_init(p_id, d_id)\n",
      "\u001b[0;31mException\u001b[0m: Couldn't load libpythonbody.so!"
     ]
    }
   ],
   "source": [
    "from pythonbody import snap\n",
    "import matplotlib.pyplot as plt\n",
    "from matplotlib.gridspec import GridSpec\n",
    "import numpy as np"
   ]
  },
  {
   "cell_type": "code",
   "execution_count": null,
   "id": "6c87e3cc",
   "metadata": {},
   "outputs": [],
   "source": [
    "# initialize run\n",
    "n100k = snap(data_path=\"/work/Tit7/DRAGON/Nbody6++GPU-May2022/petarcomp/100k_cluster/\")"
   ]
  },
  {
   "cell_type": "code",
   "execution_count": null,
   "id": "c8c54e5e",
   "metadata": {},
   "outputs": [],
   "source": [
    "# list available snap files\n",
    "n100k.snap_data\n",
    "\n",
    "# note that this doesn't look at the contents of\n",
    "# the snap files. To have a higher time resolution,\n",
    "# the snap files can be analyzed by uncommenting\n",
    "# the bottom line. THIS MIGHT TAKE A WHILE\n",
    "# dependeing on the size of the project.\n",
    "\n",
    "# n100k.analyze_files()"
   ]
  },
  {
   "cell_type": "code",
   "execution_count": null,
   "id": "9c2ca920",
   "metadata": {},
   "outputs": [],
   "source": [
    "# Load NB time step 1656\n",
    "# returns some basic data of all stars\n",
    "# See above for available time steps\n",
    "n100k.load_cluster(1656.0)"
   ]
  },
  {
   "cell_type": "code",
   "execution_count": null,
   "id": "f94af50a",
   "metadata": {},
   "outputs": [],
   "source": [
    "# now the class returns the cluster_data\n",
    "n100k"
   ]
  },
  {
   "cell_type": "code",
   "execution_count": null,
   "id": "5a052dc2",
   "metadata": {},
   "outputs": [],
   "source": [
    "# only single stars\n",
    "n100k.singles"
   ]
  },
  {
   "cell_type": "code",
   "execution_count": null,
   "id": "c31f538f",
   "metadata": {},
   "outputs": [],
   "source": [
    "# calculate binding energy (POT_spec + KIN_spec)\n",
    "n100k[\"Eb\"]"
   ]
  },
  {
   "cell_type": "code",
   "execution_count": null,
   "id": "b68b611e",
   "metadata": {},
   "outputs": [],
   "source": [
    "# binary stars only\n",
    "n100k.binaries"
   ]
  },
  {
   "cell_type": "code",
   "execution_count": null,
   "id": "8c20a722",
   "metadata": {},
   "outputs": [],
   "source": [
    "# show more detailed binary data\n",
    "n100k.binaries_data"
   ]
  },
  {
   "cell_type": "code",
   "execution_count": null,
   "id": "638c642e",
   "metadata": {},
   "outputs": [],
   "source": [
    "# calculate relEB, cmEb and (total) Eb (all specific)\n",
    "n100k.binaries_data[[\"relEb_spec\",\"cmEb_spec\", \"Eb_spec\"]]"
   ]
  },
  {
   "cell_type": "code",
   "execution_count": null,
   "id": "19ae86d3",
   "metadata": {},
   "outputs": [],
   "source": [
    "# note that after calculating Ebs, they shows up here (right most col)\n",
    "n100k.binaries_data"
   ]
  },
  {
   "cell_type": "code",
   "execution_count": null,
   "id": "7811f284",
   "metadata": {},
   "outputs": [],
   "source": [
    "# Another histogram of all binary binding energy.\n",
    "fig = plt.figure()\n",
    "ax1 = fig.add_subplot(2,2,1)\n",
    "h = ax1.hist(np.log10(-n100k.binaries_data[\"relEb_spec\"]))\n",
    "ax1.set_xlabel(r\"$\\log_{10}(-E_\\mathrm{b} \\, \\mathrm{[NB]})$\")\n",
    "ax1.set_ylabel(r\"$N$\")\n",
    "ax1.set_title(\"Binary binding energy\")\n",
    "\n",
    "ax2 = fig.add_subplot(2,2,2)\n",
    "hist = ax2.hist(n100k.filter(\"BH-BH\")[\"relEb_spec\"].values)\n",
    "ax2.set_xlabel(r\"$E_\\mathrm{b}$ [NB]\")\n",
    "ax2.set_ylabel(r\"$N$\")\n",
    "ax2.set_title(\"BH-BH Binary binding energy\")\n",
    "\n",
    "ax3 = fig.add_subplot(2,2,3)\n",
    "hist = ax3.hist(n100k.filter(\"BH-Any\")[\"relEb_spec\"].values)\n",
    "ax3.set_xlabel(r\"$E_\\mathrm{b}$ [NB]\")\n",
    "ax3.set_ylabel(r\"$N$\")\n",
    "ax3.set_title(\"BH-Any Binary binding energy\")\n",
    "\n",
    "ax4 = fig.add_subplot(2,2,4)\n",
    "hist = ax4.hist(n100k.singles[\"Eb_spec\"].values)\n",
    "ax4.set_yscale(\"log\")\n",
    "ax4.set_xlabel(r\"$E_\\mathrm{b} \\, \\mathrm{[NB]}$ \")\n",
    "ax4.set_ylabel(r\"$N$\")\n",
    "ax4.set_title(\"Single binding energy\")\n",
    "\n",
    "\n",
    "fig.tight_layout()\n",
    "fig.savefig(\"01_m2n_eb.svg\")"
   ]
  },
  {
   "cell_type": "code",
   "execution_count": null,
   "id": "7741885b",
   "metadata": {},
   "outputs": [],
   "source": [
    "n100k.filter(\"BH-Any\")"
   ]
  },
  {
   "cell_type": "code",
   "execution_count": null,
   "id": "a1803699",
   "metadata": {},
   "outputs": [],
   "source": [
    "n100k.binaries_data.filter(\"BH-BH\")"
   ]
  },
  {
   "cell_type": "code",
   "execution_count": null,
   "id": "4f10970b",
   "metadata": {},
   "outputs": [],
   "source": [
    "fig = plt.figure(figsize=(12,12))\n",
    "gs = GridSpec(4, 2, figure=fig)\n",
    "\n",
    "ax = fig.add_subplot(gs[0:2,0])\n",
    "ax.scatter(n100k.singles[\"LZ_spec\"],n100k.singles[\"Eb_spec\"].values, label=\"Single stars\")\n",
    "ax.scatter(n100k.binaries[\"LZ_spec\"],n100k.binaries[\"Eb_spec\"].values, label=\"Binaries\", alpha=0.1)\n",
    "\n",
    "ax.set_xlabel(r\"$L_\\mathrm{z,spec}$\")\n",
    "ax.set_ylabel(r\"$E_\\mathrm{b,spec}$\")\n",
    "ax.set_title(\"All stars\")\n",
    "ax.grid()\n",
    "ax.legend()\n",
    "\n",
    "ax = fig.add_subplot(gs[0:2,1])\n",
    "ax.scatter(n100k.singles[n100k.singles[\"Eb_spec\"] < 200][\"LZ_spec\"],n100k.singles[n100k.singles[\"Eb_spec\"] < 200][\"Eb_spec\"],label=\"singles\",s=1)\n",
    "ax.scatter(n100k.filter(\"SINGLE_BH\")[n100k.filter(\"SINGLE_BH\")[\"Eb_spec\"] < 200][\"LZ_spec\"],\n",
    "           n100k.filter(\"SINGLE_BH\")[n100k.filter(\"SINGLE_BH\")[\"Eb_spec\"] < 200][\"Eb_spec\"],\n",
    "           label=\"single BHs\")\n",
    "ax.set_xlabel(r\"$L_\\mathrm{z,spec}$\")\n",
    "ax.set_ylabel(r\"$E_\\mathrm{b,spec}$\")\n",
    "ax.set_title(\"Single stars\")\n",
    "ax.legend()\n",
    "ax.grid()\n",
    "\n",
    "\n",
    "ax = fig.add_subplot(gs[2:4,0])\n",
    "\n",
    "ax.scatter(n100k.binaries_data[\"cmLZ_spec\"],n100k.binaries_data[\"cmEb_spec\"],label=\"All binaries\",s=1)\n",
    "ax.scatter(n100k.binaries_data.filter(\"BH-Any\")[\"cmLZ_spec\"],n100k.binaries_data.filter(\"BH-Any\")[\"cmEb_spec\"],label=\"BH-Any\")\n",
    "ax.scatter(n100k.binaries_data.filter(\"BH-BH\")[\"cmLZ_spec\"],n100k.binaries_data.filter(\"BH-BH\")[\"cmEb_spec\"],label=\"BH-BH\")\n",
    "ax.legend()\n",
    "ax.set_xlabel(r\"$L_\\mathrm{z,spec}$\")\n",
    "ax.set_ylabel(r\"$E_\\mathrm{b,cm,spec}$\")\n",
    "ax.set_title(\"Binary stars (center of mass)\")\n",
    "ax.grid()\n",
    "\n",
    "\"\"\"ax = fig.add_subplot(gs[2,1])\n",
    "ax.scatter(n100k.binaries_data[n100k.binaries_data[\"relEb_spec\"] > 0][\"relLZ_spec\"], \n",
    "           n100k.binaries_data[n100k.binaries_data[\"relEb_spec\"] > 0][\"relEb_spec\"],label=\"All binaries\",s=1)\n",
    "ax.scatter(n100k.binaries_data[n100k.binaries_data[\"relEb_spec\"] > 0].filter(\"BH-Any\")[\"relLZ_spec\"],\n",
    "           n100k.binaries_data[n100k.binaries_data[\"relEb_spec\"] > 0].filter(\"BH-Any\")[\"relEb_spec\"],label=\"BH-Any\")\n",
    "ax.scatter(n100k.binaries_data[n100k.binaries_data[\"relEb_spec\"] > 0].filter(\"BH-BH\")[\"relLZ_spec\"],\n",
    "           n100k.binaries_data[n100k.binaries_data[\"relEb_spec\"] > 0].filter(\"BH-BH\")[\"relEb_spec\"],label=\"BH-BH\")\n",
    "\n",
    "ax.legend()\n",
    "#ax.set_yscale(\"log\")\n",
    "ax.set_xlabel(r\"$L_\\mathrm{z,spec}$\")\n",
    "ax.set_ylabel(r\"$E_\\mathrm{b,rel,spec}$\")\n",
    "ax.set_title(r\"Binary stars (relative, positive $E_\\mathrm{b,rel,spec}$)\")\n",
    "ax.grid()\"\"\"\n",
    "\n",
    "ax = fig.add_subplot(gs[2:4,1])\n",
    "ax.scatter(n100k.binaries_data[n100k.binaries_data[\"relEb_spec\"] < 0][\"relLZ_spec\"], \n",
    "           -n100k.binaries_data[n100k.binaries_data[\"relEb_spec\"] < 0][\"relEb_spec\"],label=\"All binaries\",s=1)\n",
    "ax.scatter(n100k.binaries_data[n100k.binaries_data[\"relEb_spec\"] < 0].filter(\"BH-Any\")[\"relLZ_spec\"],\n",
    "           -n100k.binaries_data[n100k.binaries_data[\"relEb_spec\"] < 0].filter(\"BH-Any\")[\"relEb_spec\"],label=\"BH-Any\")\n",
    "ax.scatter(n100k.binaries_data[n100k.binaries_data[\"relEb_spec\"] < 0].filter(\"BH-BH\")[\"relLZ_spec\"],\n",
    "           -n100k.binaries_data[n100k.binaries_data[\"relEb_spec\"] < 0].filter(\"BH-BH\")[\"relEb_spec\"],label=\"BH-BH\")\n",
    "\n",
    "ax.legend()\n",
    "ax.set_xlabel(r\"$L_\\mathrm{z,spec}$\")\n",
    "ax.set_ylabel(r\"$-E_\\mathrm{b,rel,spec}$\")\n",
    "ax.set_yscale(\"log\")\n",
    "ax.set_title(r\"Binary stars (relative, negative $E_\\mathrm{b,rel,spec}$)\")\n",
    "ax.grid()\n",
    "\n",
    "\n",
    "fig.tight_layout()\n",
    "fig.savefig(\"02_m2n_eb_lzspec.png\")"
   ]
  },
  {
   "cell_type": "code",
   "execution_count": null,
   "id": "1034d9a0",
   "metadata": {},
   "outputs": [],
   "source": [
    "# Calculate some time evolution data\n",
    "# this might take a while depending on\n",
    "# the size of the project\n",
    "\n",
    "# To reduce the amount of operations, the\n",
    "# stepsize parameter is introduced. With a\n",
    "# stepsize of N only every Nth snap file is\n",
    "# used (or if analyze_files() was run, only\n",
    "# every nth step (in the sence of total steps\n",
    "# in the entire project) is used.)\n",
    "\n",
    "# If only a specific time subset is of interest,\n",
    "# the min_nbtime and max_nbtime paramaters are\n",
    "# helpful.\n",
    "\n",
    "# calculate Time evolution also allows masks to\n",
    "# be passed. the Strings will be evaluated and\n",
    "# Thus turned into a mask. Unfortunatly this \n",
    "# is very basic as of now, and a lot of internal\n",
    "# structure must be known to properly make use\n",
    "# of this feature.\n",
    "\n",
    "n100k.calculate_time_evolution(\n",
    "    # Start at NB time\n",
    "    #min_nbtime=1000,\n",
    "    # Stop at NB time\n",
    "    #max_nbtime=2000,\n",
    "    # Use every 100th snap file\n",
    "    stepsize=100,\n",
    "    # filter, e.g. ignore stars outside of RTIDE\n",
    "    cluster_data_filter='self.cluster_data[\"R\"] < self.scalar_data[\"RTIDE\"]',\n",
    "    # as Nbody treates binaries differently, this must also be done for binaries\n",
    "    binaries_data_filter='self.binaries_data[\"R\"] < self.scalar_data[\"RTIDE\"]'\n",
    ")"
   ]
  },
  {
   "cell_type": "code",
   "execution_count": null,
   "id": "cd7cda03",
   "metadata": {},
   "outputs": [],
   "source": [
    "# top left figure: all lagr, similar to the standard nb radii\n",
    "# top right figure: only few of them\n",
    "# bottom left inner radii\n",
    "# bottom right outer radii\n",
    "fig = plt.figure(figsize=(12,8))\n",
    "ax1 = fig.add_subplot(2,2,1)\n",
    "ax2 = fig.add_subplot(2,2,2)\n",
    "ax3 = fig.add_subplot(2,2,3)\n",
    "ax4 = fig.add_subplot(2,2,4)\n",
    "axes = [ax1,ax2,ax3,ax4]\n",
    "n100k.time_evolution[\"RLAGR\"].plot(ax=ax1)\n",
    "ax1.plot(n100k.time_evolution[\"DEBUG\"][\"RTIDE\"], label=\"RTIDE\", ls=\"--\")\n",
    "ax1.legend()\n",
    "n100k.time_evolution[\"RLAGR\"][[\"0.1\", \"0.3\", \"0.5\", \"0.9\",\"0.95\", \"0.99\"]].plot(ax=ax2)\n",
    "n100k.time_evolution[\"RLAGR\"][[\"0.01\",\"0.03\",\"0.05\",\"0.1\",\"0.2\",\"0.3\"]].plot(ax=ax3)\n",
    "n100k.time_evolution[\"RLAGR\"][[\"0.4\",\"0.5\",\"0.6\",\"0.7\",\"0.8\",\"0.9\",\"0.95\"]].plot(ax=ax4)\n",
    "print(f\"Available Lagrangian radii: {', '.join(n100k.time_evolution['RLAGR_BH'].columns.values)}\")\n",
    "for ax in axes:\n",
    "    ax.set_xlabel(\"Time [NB]\")\n",
    "    ax.set_ylabel(\"Lagrangian radius [NB]\")\n",
    "    if axes.index(ax) < 2:\n",
    "        ax.set_title(\"Lagrangian radii\")\n",
    "    elif axes.index(ax) == 2:\n",
    "        ax.set_title(\"Core lagrangian radii\")\n",
    "    elif axes.index(ax) == 3:\n",
    "        ax.set_title(\"Outer lagrangian radii\")\n",
    "    ax.grid()\n",
    "    \n",
    "fig.tight_layout()\n",
    "fig.savefig(\"03_m2n_rlagr.svg\")"
   ]
  },
  {
   "cell_type": "code",
   "execution_count": null,
   "id": "efc81ad5",
   "metadata": {},
   "outputs": [],
   "source": [
    "# plot lagrangian radii for single black holes\n",
    "\n",
    "n100k.time_evolution[\"RLAGR_BH\"][[\"0.3\", \"0.5\", \"0.7\"]].plot()\n",
    "#plt.yscale(\"log\")\n",
    "plt.grid()\n",
    "plt.xlabel(\"Time [NB]\")\n",
    "plt.ylabel(\"Lagrangian radii [NB]\")\n",
    "plt.title(\"Black hole lagrangian radii\")\n",
    "plt.savefig(\"04_m2n_rlagr_bh.svg\")"
   ]
  },
  {
   "cell_type": "code",
   "execution_count": null,
   "id": "8f98a0e7",
   "metadata": {},
   "outputs": [],
   "source": [
    "# plot BH-BH binding energy time evolution\n",
    "np.log10(-n100k.time_evolution[\"E\"][\"Eb_spec_tot\"]).plot(label=\"Total binding energy\")\n",
    "np.log10(-n100k.time_evolution[\"E\"][\"SINGLES_Eb_spec_tot\"]).plot(label=\"Singles binding energy\")\n",
    "np.log10(-n100k.time_evolution[\"E\"][\"BINARIES_Eb_spec_tot\"]).plot(label=\"Binaries binding energy\")\n",
    "\n",
    "np.log10(-n100k.time_evolution[\"E\"][\"Any-Any_Eb_tot\"]).plot(label=\"Any-Any binary binding energy\")\n",
    "np.log10(-n100k.time_evolution[\"E\"][\"BH-Any_Eb_tot\"]).plot(label=\"BH-Any binary binding energy\")\n",
    "np.log10(-n100k.time_evolution[\"E\"][\"BH-BH_Eb_tot\"]).plot(label=\"BH-BH binary binding energy\")\n",
    "\n",
    "plt.grid()\n",
    "plt.legend()\n",
    "plt.xlabel(\"Time [NB]\")\n",
    "plt.ylabel(r\"$\\log_{10}(-E_\\mathrm{b})$\")\n",
    "plt.title(\"Binding energy time evolution\")\n",
    "plt.savefig(\"05_m2n_eb_time.svg\")"
   ]
  },
  {
   "cell_type": "code",
   "execution_count": null,
   "id": "769ea572",
   "metadata": {},
   "outputs": [],
   "source": [
    "# plot number of black hole binaries\n",
    "fig = plt.figure()\n",
    "ax = plt.gca()\n",
    "n100k.time_evolution[\"N\"][\"BH-BH\"].plot(ax=ax)\n",
    "\n",
    "plt.xlabel(\"Time [NB]\")\n",
    "plt.ylabel(\"N\")\n",
    "plt.title(\"Number of BH-BH binaries\")\n",
    "plt.grid()\n",
    "fig.savefig(\"07_m2n_n_bh_bh.svg\")"
   ]
  },
  {
   "cell_type": "code",
   "execution_count": null,
   "id": "bbfda2ea",
   "metadata": {},
   "outputs": [],
   "source": [
    "n100k.time_evolution[\"N\"][\"TOT\"].plot()\n",
    "n100k.time_evolution[\"N\"][\"SINGLES\"].plot()\n",
    "n100k.time_evolution[\"N\"][\"BINARIES\"].plot()\n",
    "n100k.time_evolution[\"N\"][\"SINGLE_BH\"][100:].plot()\n",
    "n100k.time_evolution[\"N\"][\"POTENTIAL_ESCAPERS\"].plot()\n",
    "\n",
    "plt.legend()\n",
    "plt.grid()\n",
    "plt.xlabel(\"Time [NB]\")\n",
    "plt.ylabel(r\"$N$\")\n",
    "plt.title(\"Number evolution\")\n",
    "plt.yscale(\"log\")\n"
   ]
  },
  {
   "cell_type": "code",
   "execution_count": null,
   "id": "deaa2360",
   "metadata": {},
   "outputs": [],
   "source": [
    "n100k.time_evolution[\"M\"][\"TOT\"].plot(label=\"total\")\n",
    "n100k.time_evolution[\"M\"][\"SINGLES\"].plot(label=\"single stars\")\n",
    "n100k.time_evolution[\"M\"][\"BINARIES\"].plot(label=\"binaries\")\n",
    "n100k.time_evolution[\"M\"][\"SINGLE_BH\"][100:].plot(label=\"single BHs\")\n",
    "n100k.time_evolution[\"M\"][\"BH-BH\"][100:].plot(label=\"BH-BH binaries\")\n",
    "n100k.time_evolution[\"M\"][\"BH-Any\"][100:].plot(label=\"BH-Any binaries\")\n",
    "n100k.time_evolution[\"M\"][\"POTENTIAL_ESCAPERS\"].plot(label=\"potential escapers\")\n",
    "\n",
    "plt.xlabel(\"Time [NB]\")\n",
    "plt.ylabel(r\"$M$ [$M_\\odot$]\")\n",
    "plt.title(\"Mass evolution\")\n",
    "plt.legend()\n",
    "plt.grid()\n",
    "plt.yscale(\"log\")\n",
    "plt.savefig(\"06_m2n_m_evolution.svg\")"
   ]
  }
 ],
 "metadata": {
  "kernelspec": {
   "display_name": "Python 3 (ipykernel)",
   "language": "python",
   "name": "python3"
  },
  "language_info": {
   "codemirror_mode": {
    "name": "ipython",
    "version": 3
   },
   "file_extension": ".py",
   "mimetype": "text/x-python",
   "name": "python",
   "nbconvert_exporter": "python",
   "pygments_lexer": "ipython3",
   "version": "3.10.7"
  }
 },
 "nbformat": 4,
 "nbformat_minor": 5
}
